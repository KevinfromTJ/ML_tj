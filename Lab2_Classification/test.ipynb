{
 "cells": [
  {
   "attachments": {},
   "cell_type": "markdown",
   "metadata": {},
   "source": [
    "## 训练与预测"
   ]
  },
  {
   "cell_type": "markdown",
   "metadata": {},
   "source": []
  },
  {
   "attachments": {},
   "cell_type": "markdown",
   "metadata": {},
   "source": [
    "### 导入模块"
   ]
  },
  {
   "cell_type": "code",
   "execution_count": 1,
   "metadata": {},
   "outputs": [
    {
     "name": "stderr",
     "output_type": "stream",
     "text": [
      "d:\\XXXDevelopment\\ML-DL\\ML_tj\\TJML_ENV\\lib\\site-packages\\tqdm\\auto.py:21: TqdmWarning: IProgress not found. Please update jupyter and ipywidgets. See https://ipywidgets.readthedocs.io/en/stable/user_install.html\n",
      "  from .autonotebook import tqdm as notebook_tqdm\n"
     ]
    }
   ],
   "source": [
    "# 不变的模块\n",
    "import os\n",
    "from Utilties.setup import import_torch\n",
    "import_torch() # 导入torch位置到sys环境变量中\n",
    "import torch\n",
    "from torch import optim\n",
    "from torch.utils.data import DataLoader, sampler, random_split\n",
    "import torch.nn.functional as F\n",
    "from torchvision import datasets,transforms as T\n",
    "\n",
    "import importlib # 用于导入自定义模块"
   ]
  },
  {
   "cell_type": "code",
   "execution_count": 2,
   "metadata": {},
   "outputs": [
    {
     "data": {
      "text/plain": [
       "<module 'Classifiers.my_networks' from 'd:\\\\XXXDevelopment\\\\ML-DL\\\\ML_tj\\\\Lab2_Classification\\\\Classifiers\\\\my_networks.py'>"
      ]
     },
     "execution_count": 2,
     "metadata": {},
     "output_type": "execute_result"
    }
   ],
   "source": [
    "# 这些是自行实现的，可能动态改变的模块\n",
    "# 首次导入\n",
    "from Utilties.my_tools import get_classes\n",
    "from Utilties.my_preprocess_nn import MyDataset\n",
    "\n",
    "from Classifiers.my_networks import MyResNet18,ResBlock\n",
    "# 重新导入可能变化的模块\n",
    "importlib.reload(importlib.import_module(\"Utilties.my_tools\"))\n",
    "importlib.reload(importlib.import_module(\"Utilties.my_preprocess_nn\"))\n",
    "importlib.reload(importlib.import_module(\"Classifiers.my_networks\"))"
   ]
  },
  {
   "attachments": {},
   "cell_type": "markdown",
   "metadata": {},
   "source": [
    "### 加载数据与预处理\n"
   ]
  },
  {
   "cell_type": "code",
   "execution_count": 3,
   "metadata": {},
   "outputs": [
    {
     "name": "stdout",
     "output_type": "stream",
     "text": [
      "['ADONIS', 'AFRICAN GIANT SWALLOWTAIL', 'AMERICAN SNOOT', 'AN 88', 'APPOLLO', 'ARCIGERA FLOWER MOTH', 'ATALA', 'ATLAS MOTH', 'BANDED ORANGE HELICONIAN', 'BANDED PEACOCK', 'BANDED TIGER MOTH', 'BECKERS WHITE', 'BIRD CHERRY ERMINE MOTH', 'BLACK HAIRSTREAK', 'BLUE MORPHO', 'BLUE SPOTTED CROW', 'BROOKES BIRDWING', 'BROWN ARGUS', 'BROWN SIPROETA', 'CABBAGE WHITE', 'CAIRNS BIRDWING', 'CHALK HILL BLUE', 'CHECQUERED SKIPPER', 'CHESTNUT', 'CINNABAR MOTH', 'CLEARWING MOTH', 'CLEOPATRA', 'CLODIUS PARNASSIAN', 'CLOUDED SULPHUR', 'COMET MOTH', 'COMMON BANDED AWL', 'COMMON WOOD-NYMPH', 'COPPER TAIL', 'CRECENT', 'CRIMSON PATCH', 'DANAID EGGFLY', 'EASTERN COMA', 'EASTERN DAPPLE WHITE', 'EASTERN PINE ELFIN', 'ELBOWED PIERROT', 'EMPEROR GUM MOTH', 'GARDEN TIGER MOTH', 'GIANT LEOPARD MOTH', 'GLITTERING SAPPHIRE', 'GOLD BANDED', 'GREAT EGGFLY', 'GREAT JAY', 'GREEN CELLED CATTLEHEART', 'GREEN HAIRSTREAK', 'GREY HAIRSTREAK', 'HERCULES MOTH', 'HUMMING BIRD HAWK MOTH', 'INDRA SWALLOW', 'IO MOTH', 'Iphiclus sister', 'JULIA', 'LARGE MARBLE', 'LUNA MOTH', 'MADAGASCAN SUNSET MOTH', 'MALACHITE', 'MANGROVE SKIPPER', 'MESTRA', 'METALMARK', 'MILBERTS TORTOISESHELL', 'MONARCH', 'MOURNING CLOAK', 'OLEANDER HAWK MOTH', 'ORANGE OAKLEAF', 'ORANGE TIP', 'ORCHARD SWALLOW', 'PAINTED LADY', 'PAPER KITE', 'PEACOCK', 'PINE WHITE', 'PIPEVINE SWALLOW', 'POLYPHEMUS MOTH', 'POPINJAY', 'PURPLE HAIRSTREAK', 'PURPLISH COPPER', 'QUESTION MARK', 'RED ADMIRAL', 'RED CRACKER', 'RED POSTMAN', 'RED SPOTTED PURPLE', 'ROSY MAPLE MOTH', 'SCARCE SWALLOW', 'SILVER SPOT SKIPPER', 'SIXSPOT BURNET MOTH', 'SLEEPY ORANGE', 'SOOTYWING', 'SOUTHERN DOGFACE', 'STRAITED QUEEN', 'TROPICAL LEAFWING', 'TWO BARRED FLASHER', 'ULYSES', 'VICEROY', 'WHITE LINED SPHINX MOTH', 'WOOD SATYR', 'YELLOW SWALLOW TAIL', 'ZEBRA LONG WING'] 100\n"
     ]
    }
   ],
   "source": [
    "dataset_path = \"D:\\\\TJCS\\\\ML&DL\\\\datasets\\\\butterfly_moths\"\n",
    "trainset_path = \"D:\\\\TJCS\\\\ML&DL\\\\datasets\\\\butterfly_moths\\\\train\"\n",
    "testset_path = \"D:\\\\TJCS\\\\ML&DL\\\\datasets\\\\butterfly_moths\\\\test\"\n",
    "valset_path = \"D:\\\\TJCS\\\\ML&DL\\\\datasets\\\\butterfly_moths\\\\valid\"\n",
    "\n",
    "# 获取数据集的类别\n",
    "classes = get_classes(trainset_path)\n",
    "print(classes, len(classes))\n",
    "\n",
    "\n"
   ]
  },
  {
   "cell_type": "code",
   "execution_count": 4,
   "metadata": {},
   "outputs": [],
   "source": [
    "transform_train_list = [\n",
    "    T.RandomHorizontalFlip(),\n",
    "    T.RandomVerticalFlip(),\n",
    "    T.RandomApply(torch.nn.ModuleList([T.ColorJitter()]), p=0.25),\n",
    "    T.Resize(256),\n",
    "    T.CenterCrop(224),\n",
    "    T.ToTensor(),\n",
    "    # T.Normalize((0.485, 0.456, 0.406), (0.229, 0.224, 0.225)), # imagenet means\n",
    "    # T.RandomErasing(p=0.2, value='random')\n",
    "]\n",
    "\n",
    "transform_test_list = [\n",
    "    T.Resize(256),\n",
    "    T.CenterCrop(224),\n",
    "    T.ToTensor(),\n",
    "    # T.Normalize((0.485, 0.456, 0.406), (0.229, 0.224, 0.225)), # imagenet means\n",
    "]"
   ]
  },
  {
   "cell_type": "code",
   "execution_count": 5,
   "metadata": {},
   "outputs": [
    {
     "name": "stdout",
     "output_type": "stream",
     "text": [
      "MyDataset metadata dir:  D:\\TJCS\\ML&DL\\datasets\\butterfly_moths\n",
      "MyDataset data length:  13594\n",
      "MyDataset data mean:  tensor([0.4845, 0.4676, 0.3441])\n",
      "MyDataset data std:  tensor([0.2334, 0.2277, 0.2219])\n",
      "MyDataset\n"
     ]
    }
   ],
   "source": [
    "# 加载数据\n",
    "\n",
    "bm_data = MyDataset(\n",
    "    dataset_path,\n",
    "    transform_train_list=transform_train_list,\n",
    "    transform_test_list=transform_test_list,\n",
    ")\n",
    "\n",
    "print(bm_data)\n",
    "\n",
    "\n"
   ]
  },
  {
   "cell_type": "code",
   "execution_count": 6,
   "metadata": {},
   "outputs": [],
   "source": [
    "batch_size = 2\n",
    "\n",
    "train_loader = DataLoader(\n",
    "    bm_data.train_data,\n",
    "    batch_size=batch_size,\n",
    "    shuffle=True,\n",
    "    #   sampler=sampler.SubsetRandomSampler(range(NUM_TRAIN))\n",
    ")\n",
    "test_loader = DataLoader(\n",
    "    bm_data.test_data,\n",
    "    batch_size=batch_size,\n",
    "    #   sampler=sampler.SubsetRandomSampler(range(NUM_TRAIN, NUM_TRAIN + NUM_VAL))\n",
    "    shuffle=True,\n",
    ")"
   ]
  },
  {
   "attachments": {},
   "cell_type": "markdown",
   "metadata": {},
   "source": [
    "### 导入模型训练"
   ]
  },
  {
   "attachments": {},
   "cell_type": "markdown",
   "metadata": {},
   "source": [
    "#### 定义训练和优化器"
   ]
  },
  {
   "cell_type": "code",
   "execution_count": null,
   "metadata": {},
   "outputs": [],
   "source": [
    "# 定义各种参数\n",
    "device=torch.device('cuda' if torch.cuda.is_available() else 'cpu')\n",
    "dtype = torch.float32 \n",
    "display_itv = 1000\n",
    "\n",
    "# 模型\n",
    "model =MyResNet18(ResBlock,[3,3,3,3],64,100)  #MyModel()\n",
    "model_name='resnet3333'\n",
    "# 超参数\n",
    "learning_rate = 4e-3\n",
    "# epoch\n",
    "train_epochs=20\n",
    "\n",
    "model_fname = f'{model_name}_bs{batch_size}_ep{train_epochs}_lr{learning_rate}'\n",
    "best_model_path=\"./model\"+ model_fname \n",
    "best_model=None\n",
    "best_val_acc=0"
   ]
  },
  {
   "cell_type": "code",
   "execution_count": null,
   "metadata": {},
   "outputs": [],
   "source": [
    "# 准确率\n",
    "def check_accuracy(loader, model):   \n",
    "    num_correct = 0\n",
    "    num_samples = 0\n",
    "    model.eval()  # set model to evaluation mode\n",
    "    with torch.no_grad():\n",
    "        for x, y in loader:\n",
    "            x = x.to(device=device, dtype=dtype)  # move to device, e.g. GPU\n",
    "            y = y.to(device=device, dtype=torch.long)\n",
    "            scores = model(x)\n",
    "            _, preds = scores.max(1)\n",
    "            num_correct += (preds == y).sum()\n",
    "            num_samples += preds.size(0)\n",
    "        acc = float(num_correct) / num_samples\n",
    "        print('Got %d / %d correct (%.2f)' % (num_correct, num_samples, 100 * acc))\n",
    "        \n",
    "    return acc"
   ]
  },
  {
   "cell_type": "code",
   "execution_count": 7,
   "metadata": {},
   "outputs": [],
   "source": [
    "\n",
    "\n",
    "def train(model, optimizer, epochs=1):\n",
    "    \"\"\"\n",
    "    Train a model \n",
    "    \n",
    "    Inputs:\n",
    "    - model: A PyTorch Module giving the model to train.\n",
    "    - optimizer: An Optimizer object we will use to train the model\n",
    "    - epochs: (Optional) A Python integer giving the number of epochs to train for\n",
    "    \n",
    "    \"\"\"\n",
    "    model = model.to(device=device)  # move the model parameters to CPU/GPU\n",
    "    for e in range(epochs):\n",
    "        for t, (x, y) in enumerate(train_loader):\n",
    "            model.train()  # put model to training mode\n",
    "            x = x.to(device=device, dtype=dtype)  # move to device, e.g. GPU\n",
    "            y = y.to(device=device, dtype=torch.long)\n",
    "\n",
    "            # print(x.shape)\n",
    "            # summary(model,x.shape)\n",
    "            scores = model(x)\n",
    "            loss = F.cross_entropy(scores, y)\n",
    "\n",
    "            # Zero out all of the gradients for the variables which the optimizer\n",
    "            # will update.\n",
    "            optimizer.zero_grad()\n",
    "\n",
    "            # This is the backwards pass: compute the gradient of the loss with\n",
    "            # respect to each  parameter of the model.\n",
    "            loss.backward()\n",
    "\n",
    "            # Actually update the parameters of the model using the gradients\n",
    "            # computed by the backwards pass.\n",
    "            optimizer.step()\n",
    "\n",
    "            if t % display_itv == 0:\n",
    "                print('Iteration %d, loss = %.4f' % (t, loss.item()))\n",
    "                print()"
   ]
  },
  {
   "cell_type": "code",
   "execution_count": null,
   "metadata": {},
   "outputs": [],
   "source": [
    "optimizer = optim.Adam(model.parameters(), lr=learning_rate)\n",
    "\n",
    "train(model, optimizer, epochs=train_epochs)"
   ]
  },
  {
   "cell_type": "code",
   "execution_count": null,
   "metadata": {},
   "outputs": [],
   "source": [
    "print(best_val_acc)\n",
    "torch.save(best_model.state_dict(), best_model_path+f'_acc{best_val_acc}'+'.pth')       \n",
    "check_accuracy(test_loader, best_model)\n",
    "\n",
    "# 原始Resnet18  bs=32  ep=10 lr=1e-3 :Got 413 / 500 correct (82.60)\n",
    "# REsnet-? [3,3,3,3] bs=64  ep=10 lr=3e-3: Got 418 / 500 correct (83.60)"
   ]
  },
  {
   "attachments": {},
   "cell_type": "markdown",
   "metadata": {},
   "source": [
    "## 分析与可视化"
   ]
  },
  {
   "cell_type": "code",
   "execution_count": 13,
   "metadata": {},
   "outputs": [
    {
     "name": "stdout",
     "output_type": "stream",
     "text": [
      "Serving 'D:\\TJCS\\ML&DL\\ML\\Lab2\\model\\myResnet18_bs64_ep20_lr0.004_acc0.888_script.onnx' at http://localhost:8080\n"
     ]
    },
    {
     "data": {
      "text/plain": [
       "('localhost', 8080)"
      ]
     },
     "execution_count": 13,
     "metadata": {},
     "output_type": "execute_result"
    }
   ],
   "source": [
    "import netron\n",
    "import torch.onnx\n",
    "\n",
    "modelData = \"D:\\TJCS\\ML&DL\\ML\\Lab2\\model\\\\myResnet18_bs64_ep20_lr0.004_acc0.888_script.onnx\"\n",
    "netron.start(modelData)  # 输出网络结构\n"
   ]
  }
 ],
 "metadata": {
  "kernelspec": {
   "display_name": "TJML_ENV",
   "language": "python",
   "name": "python3"
  },
  "language_info": {
   "codemirror_mode": {
    "name": "ipython",
    "version": 3
   },
   "file_extension": ".py",
   "mimetype": "text/x-python",
   "name": "python",
   "nbconvert_exporter": "python",
   "pygments_lexer": "ipython3",
   "version": "3.10.7"
  },
  "orig_nbformat": 4
 },
 "nbformat": 4,
 "nbformat_minor": 2
}
